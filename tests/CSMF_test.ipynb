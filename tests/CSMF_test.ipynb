{
 "cells": [
  {
   "cell_type": "markdown",
   "id": "9b5bdd09-5a9c-4561-b3e1-d57e69bd3a97",
   "metadata": {},
   "source": [
    "\n",
    "## Importing everything that is needed\n"
   ]
  },
  {
   "cell_type": "code",
   "execution_count": 1,
   "id": "33bc8be4-4f77-4124-a7f1-2f22c700c011",
   "metadata": {},
   "outputs": [],
   "source": [
    "import time\n",
    "import yaml\n",
    "import numpy as np\n",
    "from abacusnbody.hod.abacus_hod import AbacusHOD\n",
    "from astropy.table import Table, vstack\n",
    "from cosmoprimo.utils import DistanceToRedshift\n",
    "from pyrecon import utils\n",
    "from cosmoprimo.fiducial import AbacusSummit\n",
    "from scipy.interpolate import InterpolatedUnivariateSpline\n",
    "import logging\n",
    "import warnings\n",
    "from tqdm import tqdm \n",
    "from astropy import units as u\n",
    "\n",
    "warnings.filterwarnings(\"ignore\", category=np.VisibleDeprecationWarning)\n",
    "logger = logging.getLogger(\"ds_abacus_lightcone\")"
   ]
  },
  {
   "cell_type": "markdown",
   "id": "87a38aa8-1442-4eb4-9635-f016b73a4514",
   "metadata": {},
   "source": [
    "## Define a function that return the ball sturcture for each halo catalogue. \n",
    "## HOD parameters are varied in log10, which need to be converted"
   ]
  },
  {
   "cell_type": "code",
   "execution_count": 2,
   "id": "a74223e9-10b7-4184-b5d7-7f6480c0e5fb",
   "metadata": {},
   "outputs": [],
   "source": [
    "def get_hod(p, param_mapping, param_tracer, Ball, nthread, seed):\n",
    "    # read the parameters\n",
    "    # print(p)\n",
    "    for key in param_mapping.keys():\n",
    "        mapping_idx = param_mapping[key]\n",
    "        tracer_type = param_tracer[key]\n",
    "        if key == \"sigma\" and tracer_type == \"LRG\":\n",
    "            Ball.tracers[tracer_type][key] = 10 ** p[mapping_idx]\n",
    "        elif key == \"M_0\" and tracer_type == \"CSMF\":\n",
    "            Ball.tracers[tracer_type][key] = 10 ** p[mapping_idx] \n",
    "        elif key == \"M_1\" and tracer_type == \"CSMF\":\n",
    "            Ball.tracers[tracer_type][key] = 10 ** p[mapping_idx] \n",
    "        elif key == \"M_2\" and tracer_type == \"CSMF\":\n",
    "            Ball.tracers[tracer_type][key] = 10 ** p[mapping_idx]\n",
    "        else:\n",
    "            Ball.tracers[tracer_type][key] = p[mapping_idx]\n",
    "    \n",
    "    mock_dict = Ball.run_hod(tracers=Ball.tracers, want_rsd=Ball.want_rsd, want_nfw = False, NFW_draw=None, Nthread=nthread, reseed=seed, verbose=True)\n",
    "    return mock_dict"
   ]
  },
  {
   "cell_type": "markdown",
   "id": "5fd41b5f-9415-4e9d-a35a-878c2eb67b5a",
   "metadata": {},
   "source": [
    "## As the name it suggest it set ups the HOD code"
   ]
  },
  {
   "cell_type": "code",
   "execution_count": 3,
   "id": "29a4c90b-ae9f-4749-a965-e97b4413dc1a",
   "metadata": {},
   "outputs": [],
   "source": [
    "def setup_hod(config):\n",
    "    print(f\"Processing {config['sim_params']['sim_name']}\")\n",
    "    sim_params = config[\"sim_params\"]\n",
    "    HOD_params = config[\"HOD_params\"]\n",
    "    fit_params = config[\"fit_params\"]\n",
    "\n",
    "    if(HOD_params['CSMF_params']['Mstar_low']<100):\n",
    "        HOD_params['CSMF_params']['Mstar_low'] = 10**HOD_params['CSMF_params']['Mstar_low']\n",
    "        HOD_params['CSMF_params']['Mstar_up'] = 10**HOD_params['CSMF_params']['Mstar_up']\n",
    "\n",
    "    Balls = []\n",
    "    for ez in zranges:\n",
    "        sim_params[\"z_mock\"] = ez\n",
    "        Balls += [AbacusHOD(sim_params, HOD_params)]\n",
    "        \n",
    "    param_mapping = {}\n",
    "    param_tracer = {}\n",
    "    for key in fit_params.keys():\n",
    "        mapping_idx = fit_params[key][0]\n",
    "        tracer_type = fit_params[key][-1]\n",
    "        param_mapping[key] = mapping_idx\n",
    "        param_tracer[key] = tracer_type\n",
    "        \n",
    "    return Balls, param_mapping, param_tracer"
   ]
  },
  {
   "cell_type": "markdown",
   "id": "8bcd8f8a-0ab4-4614-93f9-743786ee2a2c",
   "metadata": {},
   "source": [
    "## Dictionary to contral the code below "
   ]
  },
  {
   "cell_type": "code",
   "execution_count": 4,
   "id": "0310aa3b-0815-4b73-b1d3-4b62737bf282",
   "metadata": {},
   "outputs": [],
   "source": [
    "args_dict = {\n",
    "    \"start_hod\":0,\n",
    "    \"n_hod\":1,\n",
    "    \"start_cosmo\":0,\n",
    "    \"n_cosmo\":1,\n",
    "    \"start_phase\":0,\n",
    "    \"n_phase\":1,\n",
    "    \"survey\":\"DESI\",\n",
    "    \"tracer\":\"CSMF\",\n",
    "    \"zmin\":0.1,\n",
    "    \"zmax\":0.4,\n",
    "    \"start_seed\":0,\n",
    "    \"n_seed\":1,\n",
    "    \"nthreads\":5\n",
    "}"
   ]
  },
  {
   "cell_type": "markdown",
   "id": "bc4f1cc0-410e-43ea-aee8-5a753d8fc278",
   "metadata": {},
   "source": [
    "## Load in the config file and define the redshifts that combined in the light cone"
   ]
  },
  {
   "cell_type": "code",
   "execution_count": 5,
   "id": "8ac3f830-7bd6-4931-81ef-cbf9aa6266b9",
   "metadata": {},
   "outputs": [],
   "source": [
    "config = yaml.safe_load(open(\"data_CSMF/config_CSMF.yaml\"))\n",
    "zranges = [0.100]"
   ]
  },
  {
   "cell_type": "markdown",
   "id": "97e83b3f-e9f1-4672-8daa-87874d1c1b5c",
   "metadata": {
    "tags": []
   },
   "source": [
    "\n",
    "## Downloading halo data using ``gdown``, which can be intalled with ``pip install gdown``\n"
   ]
  },
  {
   "cell_type": "code",
   "execution_count": 6,
   "id": "35fa5b96-2897-4e90-9214-1aaf71f874aa",
   "metadata": {
    "tags": []
   },
   "outputs": [
    {
     "name": "stderr",
     "output_type": "stream",
     "text": [
      "Downloading...\n",
      "From (original): https://drive.google.com/uc?id=1VCBXlkYHChn1HCwRPnq9iDSgzILfXfwL\n",
      "From (redirected): https://drive.google.com/uc?id=1VCBXlkYHChn1HCwRPnq9iDSgzILfXfwL&confirm=t&uuid=ce478b08-a653-4604-a55d-e2fb144f7ed9\n",
      "To: /global/u2/p/pierre/abacusutils_modified/tests/data_CSMF/halos_data/AbacusSummit_base_c000_ph000/z0.100/particles_xcom_0_seed600_abacushod_oldfenv_MT_withranks_new.h5\n",
      "100%|██████████| 260M/260M [00:01<00:00, 173MB/s]  \n",
      "Downloading...\n",
      "From (original): https://drive.google.com/uc?id=1xXlbXr8h8AiRFc2p5knYSYloJ9jfcAY9\n",
      "From (redirected): https://drive.google.com/uc?id=1xXlbXr8h8AiRFc2p5knYSYloJ9jfcAY9&confirm=t&uuid=00ce9d81-134e-41b2-996c-c27bb162fa2c\n",
      "To: /global/u2/p/pierre/abacusutils_modified/tests/data_CSMF/halos_data/AbacusSummit_base_c000_ph000/z0.100/halos_xcom_0_seed600_abacushod_oldfenv_MT_new.h5\n",
      "100%|██████████| 108M/108M [00:00<00:00, 138MB/s]  \n"
     ]
    },
    {
     "data": {
      "text/plain": [
       "'data_CSMF/halos_data/AbacusSummit_base_c000_ph000/z0.100/halos_xcom_0_seed600_abacushod_oldfenv_MT_new.h5'"
      ]
     },
     "execution_count": 6,
     "metadata": {},
     "output_type": "execute_result"
    }
   ],
   "source": [
    "import gdown\n",
    "gdown.download(id='1VCBXlkYHChn1HCwRPnq9iDSgzILfXfwL',output='data_CSMF/halos_data/AbacusSummit_base_c000_ph000/z0.100/particles_xcom_0_seed600_abacushod_oldfenv_MT_withranks_new.h5')\n",
    "gdown.download(id='1xXlbXr8h8AiRFc2p5knYSYloJ9jfcAY9',output='data_CSMF/halos_data/AbacusSummit_base_c000_ph000/z0.100/halos_xcom_0_seed600_abacushod_oldfenv_MT_new.h5')"
   ]
  },
  {
   "cell_type": "markdown",
   "id": "ac4e71ce-c351-4ab9-8918-98ef3c9c9f8c",
   "metadata": {},
   "source": [
    "## Decide which cosmology, hod, seed and phase and prepare the HOD parameters"
   ]
  },
  {
   "cell_type": "code",
   "execution_count": 7,
   "id": "f10e377e-3688-4491-8f71-5e8f3aae2a11",
   "metadata": {
    "tags": []
   },
   "outputs": [
    {
     "name": "stdout",
     "output_type": "stream",
     "text": [
      "[10.96635881 11.49130401 27.75835925  0.18179997  0.29946413  2.14532573\n",
      "  0.41764339  0.46919005 -1.42349829 -0.49794641  0.53148565]\n"
     ]
    }
   ],
   "source": [
    "cosmo = 0\n",
    "phase = 0\n",
    "seed = 0\n",
    "hod = 0\n",
    "\n",
    "HOD_params = Table.read('data_CSMF/HOD_parameters.fits')\n",
    "names = ['log_M_0', 'log_M_1', 'gamma_1', 'gamma_2', 'sigma_c','a_1', 'b_0', 'b_1', 's', 'Bcent', 'Bsat']\n",
    "\n",
    "HOD_params_np = []\n",
    "for name in names:\n",
    "    HOD_params_np.append(np.array(HOD_params[name]))\n",
    "HOD_params_np = np.array(HOD_params_np).T\n",
    "print(HOD_params_np[hod])"
   ]
  },
  {
   "cell_type": "markdown",
   "id": "dfb02196-acda-48f7-82e2-0c3014ac0459",
   "metadata": {},
   "source": [
    "## Run the HOD code and write data to astropy Table"
   ]
  },
  {
   "cell_type": "code",
   "execution_count": 8,
   "id": "3dd8dce1-a1f9-4d5c-81f2-c235a3fa9963",
   "metadata": {
    "tags": []
   },
   "outputs": [
    {
     "name": "stdout",
     "output_type": "stream",
     "text": [
      "Processing AbacusSummit_base_c000_ph000\n",
      "generating centrals took  37.29109263420105\n",
      "generating satellites took  44.424450635910034\n",
      "CSMF number of galaxies  53496\n",
      "satellite fraction  0.7775721549274712\n",
      "organizing outputs took  5.719436407089233\n",
      "generated CSMFs: 53496 satellite fraction  0.7775721549274712\n"
     ]
    }
   ],
   "source": [
    "mock_cosmo = AbacusSummit(cosmo)\n",
    "Balls, param_mapping, param_tracer = setup_hod(config)\n",
    "\n",
    "data_positions_sky = []\n",
    "for i, newBall in enumerate(Balls):\n",
    "\n",
    "    hod_dict = get_hod(HOD_params_np[hod],param_mapping,param_tracer,newBall,args_dict['nthreads'],seed)\n",
    "    data = hod_dict[args_dict['tracer']]\n",
    "\n",
    "    dist, ra, dec = utils.cartesian_to_sky(np.c_[data['x'] + 990, data['y'] + 990, data['z'] + 990])\n",
    "    d2z = DistanceToRedshift(mock_cosmo.comoving_radial_distance)\n",
    "    redshift = d2z(dist)\n",
    "\n",
    "    mask = (redshift >= args_dict['zmin']) & (redshift <= args_dict['zmax']) & (data['stellarmass']>0)\n",
    "    central_id = np.zeros_like(data['stellarmass'])\n",
    "    central_id[:data['Ncent']] = 1\n",
    "\n",
    "    data_positions_sky.append(np.c_[ra[mask],dec[mask],dist[mask],redshift[mask],data['stellarmass'][mask],data['mass'][mask],central_id[mask]])\n",
    "data_positions_sky = np.concatenate(data_positions_sky, axis=0)\n",
    "\n",
    "HOD_table = Table()\n",
    "HOD_table['ra'] = data_positions_sky[:,0].astype(np.float32)\n",
    "HOD_table['dec'] = data_positions_sky[:,1].astype(np.float32)\n",
    "HOD_table['comoving_distance_overh'] = data_positions_sky[:,2].astype(np.float32)*u.Mpc\n",
    "HOD_table['redshift'] = data_positions_sky[:,3].astype(np.float32)\n",
    "HOD_table['log10Mstar_overhsquare'] = np.log10(data_positions_sky[:,4]).astype(np.float64)*u.Msun\n",
    "HOD_table['log10Mhalo_overh'] = np.log10(data_positions_sky[:,5]).astype(np.float64)*u.Msun\n",
    "HOD_table['central flag'] = data_positions_sky[:,6].astype(np.int32)\n",
    "\n",
    "HOD_table.write(f'data_CSMF/galaxy_catalogue_cos{cosmo:03}_ph{phase:03}_hod{hod:03}_seed{seed:03}.fits',overwrite=True)"
   ]
  },
  {
   "cell_type": "code",
   "execution_count": 9,
   "id": "464b26e4-8916-4844-a27d-0b87a4a58b64",
   "metadata": {
    "tags": []
   },
   "outputs": [
    {
     "data": {
      "text/html": [
       "<div><i>Table length=53476</i>\n",
       "<table id=\"table140207710245008\" class=\"table-striped table-bordered table-condensed\">\n",
       "<thead><tr><th>ra</th><th>dec</th><th>comoving_distance_overh</th><th>redshift</th><th>log10Mstar_overhsquare</th><th>log10Mhalo_overh</th><th>central flag</th></tr></thead>\n",
       "<thead><tr><th></th><th></th><th>Mpc</th><th></th><th>solMass</th><th>solMass</th><th></th></tr></thead>\n",
       "<thead><tr><th>float32</th><th>float32</th><th>float32</th><th>float32</th><th>float64</th><th>float64</th><th>int32</th></tr></thead>\n",
       "<tr><td>89.80145</td><td>61.005356</td><td>313.05255</td><td>0.10718833</td><td>10.669699803548644</td><td>13.15851407014397</td><td>1</td></tr>\n",
       "<tr><td>89.96813</td><td>15.081102</td><td>314.77386</td><td>0.10779407</td><td>10.661428342597803</td><td>12.567379512545882</td><td>1</td></tr>\n",
       "<tr><td>89.60284</td><td>77.63843</td><td>297.2059</td><td>0.10162075</td><td>11.04491605968148</td><td>12.787388976424438</td><td>1</td></tr>\n",
       "<tr><td>89.90948</td><td>79.4423</td><td>362.13913</td><td>0.12453798</td><td>10.457635730746278</td><td>12.501052347049345</td><td>1</td></tr>\n",
       "<tr><td>89.011246</td><td>79.60034</td><td>358.28885</td><td>0.12317138</td><td>11.104613250739858</td><td>13.219736871286516</td><td>1</td></tr>\n",
       "<tr><td>89.32601</td><td>75.91486</td><td>308.97787</td><td>0.10575519</td><td>10.88640251020487</td><td>13.195783032147952</td><td>1</td></tr>\n",
       "<tr><td>89.75433</td><td>73.1615</td><td>343.47256</td><td>0.117921665</td><td>11.388144911160552</td><td>12.820884682162479</td><td>1</td></tr>\n",
       "<tr><td>89.69066</td><td>62.50087</td><td>302.8254</td><td>0.10359327</td><td>11.11171486330106</td><td>13.362673792424015</td><td>1</td></tr>\n",
       "<tr><td>89.66637</td><td>64.31412</td><td>341.10883</td><td>0.11708548</td><td>11.299165012450777</td><td>13.09722129049577</td><td>1</td></tr>\n",
       "<tr><td>...</td><td>...</td><td>...</td><td>...</td><td>...</td><td>...</td><td>...</td></tr>\n",
       "<tr><td>3.0228546</td><td>1.523003</td><td>363.0755</td><td>0.12487049</td><td>10.697835970470262</td><td>12.717844006810516</td><td>0</td></tr>\n",
       "<tr><td>3.029087</td><td>1.5405174</td><td>362.981</td><td>0.12483694</td><td>10.433693223702878</td><td>12.717844006810516</td><td>0</td></tr>\n",
       "<tr><td>3.0400407</td><td>1.5345762</td><td>363.1828</td><td>0.124908604</td><td>10.517115508168002</td><td>12.717844006810516</td><td>0</td></tr>\n",
       "<tr><td>2.3302634</td><td>0.028755056</td><td>365.99042</td><td>0.12590595</td><td>10.537922530628641</td><td>13.252438001727299</td><td>0</td></tr>\n",
       "<tr><td>2.3254724</td><td>0.055217672</td><td>365.89832</td><td>0.12587322</td><td>10.424138818713901</td><td>13.252438001727299</td><td>0</td></tr>\n",
       "<tr><td>2.3186884</td><td>0.051970188</td><td>366.02066</td><td>0.12591669</td><td>10.539820877719254</td><td>13.252438001727299</td><td>0</td></tr>\n",
       "<tr><td>2.3204777</td><td>0.04352397</td><td>365.93283</td><td>0.12588549</td><td>10.71973916444486</td><td>13.252438001727299</td><td>0</td></tr>\n",
       "<tr><td>2.3323631</td><td>0.010766512</td><td>365.90237</td><td>0.12587467</td><td>10.447551706193318</td><td>13.252438001727299</td><td>0</td></tr>\n",
       "<tr><td>2.3465645</td><td>0.03120295</td><td>366.13522</td><td>0.1259574</td><td>10.667618111179596</td><td>13.252438001727299</td><td>0</td></tr>\n",
       "<tr><td>2.3431413</td><td>0.0038444304</td><td>365.9732</td><td>0.12589984</td><td>10.503682171749702</td><td>13.252438001727299</td><td>0</td></tr>\n",
       "</table></div>"
      ],
      "text/plain": [
       "<Table length=53476>\n",
       "    ra        dec      ...  log10Mhalo_overh  central flag\n",
       "                       ...      solMass                   \n",
       " float32    float32    ...      float64          int32    \n",
       "--------- ------------ ... ------------------ ------------\n",
       " 89.80145    61.005356 ...  13.15851407014397            1\n",
       " 89.96813    15.081102 ... 12.567379512545882            1\n",
       " 89.60284     77.63843 ... 12.787388976424438            1\n",
       " 89.90948      79.4423 ... 12.501052347049345            1\n",
       "89.011246     79.60034 ... 13.219736871286516            1\n",
       " 89.32601     75.91486 ... 13.195783032147952            1\n",
       " 89.75433      73.1615 ... 12.820884682162479            1\n",
       " 89.69066     62.50087 ... 13.362673792424015            1\n",
       " 89.66637     64.31412 ...  13.09722129049577            1\n",
       "      ...          ... ...                ...          ...\n",
       "3.0228546     1.523003 ... 12.717844006810516            0\n",
       " 3.029087    1.5405174 ... 12.717844006810516            0\n",
       "3.0400407    1.5345762 ... 12.717844006810516            0\n",
       "2.3302634  0.028755056 ... 13.252438001727299            0\n",
       "2.3254724  0.055217672 ... 13.252438001727299            0\n",
       "2.3186884  0.051970188 ... 13.252438001727299            0\n",
       "2.3204777   0.04352397 ... 13.252438001727299            0\n",
       "2.3323631  0.010766512 ... 13.252438001727299            0\n",
       "2.3465645   0.03120295 ... 13.252438001727299            0\n",
       "2.3431413 0.0038444304 ... 13.252438001727299            0"
      ]
     },
     "execution_count": 9,
     "metadata": {},
     "output_type": "execute_result"
    }
   ],
   "source": [
    "HOD_table"
   ]
  },
  {
   "cell_type": "markdown",
   "id": "a27302e4-b366-432e-a883-c16fd7f0806d",
   "metadata": {},
   "source": [
    "## Download reference catalogue and compare it with the new generated output. Note that stellar masses are different for each run by construction."
   ]
  },
  {
   "cell_type": "code",
   "execution_count": 10,
   "id": "469d1e69-940a-4a02-9af0-0942ee49cdb7",
   "metadata": {
    "tags": []
   },
   "outputs": [
    {
     "name": "stderr",
     "output_type": "stream",
     "text": [
      "Downloading...\n",
      "From: https://drive.google.com/uc?id=1JB5UvLM13wj6IdRvF37-Dh8kRjJWzWh0\n",
      "To: /global/u2/p/pierre/abacusutils_modified/tests/data_CSMF/reference_galaxy_catalogue_cos000_ph000_hod000_seed000.fits\n",
      "100%|██████████| 1.93M/1.93M [00:00<00:00, 16.1MB/s]\n"
     ]
    },
    {
     "name": "stdout",
     "output_type": "stream",
     "text": [
      "\u001b[92m \"ra\" is close to the reference catalogue\n",
      "\u001b[92m \"dec\" is close to the reference catalogue\n",
      "\u001b[92m \"comoving_distance_overh\" is close to the reference catalogue\n",
      "\u001b[92m \"redshift\" is close to the reference catalogue\n",
      "\u001b[91m \"log10Mstar_overhsquare\" is different to the reference catalogue\n",
      "\u001b[92m \"log10Mhalo_overh\" is close to the reference catalogue\n",
      "\u001b[92m \"central flag\" is close to the reference catalogue\n"
     ]
    }
   ],
   "source": [
    "from common import check_close\n",
    "\n",
    "gdown.download(id='1JB5UvLM13wj6IdRvF37-Dh8kRjJWzWh0',output=f'data_CSMF/reference_galaxy_catalogue_cos{cosmo:03}_ph{phase:03}_hod{hod:03}_seed{seed:03}.fits')\n",
    "HOD_table_ref = Table.read(f'data_CSMF/reference_galaxy_catalogue_cos{cosmo:03}_ph{phase:03}_hod{hod:03}_seed{seed:03}.fits')\n",
    "\n",
    "\n",
    "for name in HOD_table_ref.colnames:\n",
    "    if(check_close(HOD_table_ref[name],HOD_table[name])):\n",
    "        print('\\033[92m \"'+name + r'\" is close to the reference catalogue')\n",
    "    else:\n",
    "        print('\\033[91m \"'+name + r'\" is different to the reference catalogue')"
   ]
  }
 ],
 "metadata": {
  "kernelspec": {
   "display_name": "AbacusHOD_env",
   "language": "python",
   "name": "abacushod_env"
  },
  "language_info": {
   "codemirror_mode": {
    "name": "ipython",
    "version": 3
   },
   "file_extension": ".py",
   "mimetype": "text/x-python",
   "name": "python",
   "nbconvert_exporter": "python",
   "pygments_lexer": "ipython3",
   "version": "3.11.8"
  }
 },
 "nbformat": 4,
 "nbformat_minor": 5
}
